{
 "cells": [
  {
   "cell_type": "code",
   "execution_count": 2,
   "id": "f52c6b2d",
   "metadata": {},
   "outputs": [],
   "source": [
    "import numpy as np\n",
    "import sympy as sp\n",
    "\n",
    "sp.init_printing(use_latex='mathjax')"
   ]
  },
  {
   "cell_type": "code",
   "execution_count": 3,
   "id": "c54022a3",
   "metadata": {},
   "outputs": [],
   "source": [
    "\n",
    "def sym_construct(n):\n",
    "    T = sp.MutableSparseNDimArray(np.zeros(n*(2,),dtype=int))\n",
    "    j = np.zeros(n)\n",
    "    for _ in range(n):\n",
    "        j[_] = 1\n",
    "        T[j] = 1/sp.sqrt(n)\n",
    "        j[_] = 0\n",
    "    l = [int(2) for _ in range(n)]\n",
    "    return T,l"
   ]
  },
  {
   "cell_type": "code",
   "execution_count": 4,
   "id": "a7062151",
   "metadata": {},
   "outputs": [],
   "source": [
    "def sym_mps(T:sp.Array,n:int,dims):\n",
    "    Alist = [0 for _ in range(n)]\n",
    "    prod_dims = (int) (np.prod(dims))\n",
    "    T = T.reshape(*((1,) + T.shape))\n",
    "    for i in range(n-1):\n",
    "        rest_dims = prod_dims//dims[i]\n",
    "        C = sp.Matrix(T.reshape(T.shape[0]*dims[i],rest_dims).tolist())\n",
    "        u,s,v = C.singular_value_decomposition()\n",
    "        Alist[i] = u * s\n",
    "        T = sp.Array(v.H)\n",
    "        prod_dims = rest_dims\n",
    "    Alist[n-1]= sp.Matrix(T.tolist())\n",
    "    return Alist"
   ]
  },
  {
   "cell_type": "code",
   "execution_count": 5,
   "id": "4b782cd1",
   "metadata": {},
   "outputs": [
    {
     "data": {
      "text/latex": [
       "$\\displaystyle \\left[ \\left[\\begin{matrix}0 & 1\\end{matrix}\\right]\\right]$"
      ],
      "text/plain": [
       "[[0  1]]"
      ]
     },
     "metadata": {},
     "output_type": "display_data"
    },
    {
     "data": {
      "text/latex": [
       "$\\displaystyle \\left[ \\left[\\begin{matrix}0 & \\frac{\\sqrt{2}}{2}\\\\\\frac{\\sqrt{2}}{2} & 0\\end{matrix}\\right], \\  \\left[\\begin{matrix}1 & 0\\\\0 & 1\\end{matrix}\\right]\\right]$"
      ],
      "text/plain": [
       "⎡⎡    √2⎤        ⎤\n",
       "⎢⎢0   ──⎥        ⎥\n",
       "⎢⎢    2 ⎥  ⎡1  0⎤⎥\n",
       "⎢⎢      ⎥, ⎢    ⎥⎥\n",
       "⎢⎢√2    ⎥  ⎣0  1⎦⎥\n",
       "⎢⎢──  0 ⎥        ⎥\n",
       "⎣⎣2     ⎦        ⎦"
      ]
     },
     "metadata": {},
     "output_type": "display_data"
    },
    {
     "data": {
      "text/latex": [
       "$\\displaystyle \\left[ \\left[\\begin{matrix}0 & \\frac{\\sqrt{6}}{3}\\\\\\frac{\\sqrt{3}}{3} & 0\\end{matrix}\\right], \\  \\left[\\begin{matrix}0 & 1\\\\0 & 0\\\\\\frac{\\sqrt{2}}{2} & 0\\\\0 & \\frac{\\sqrt{2}}{2}\\end{matrix}\\right], \\  \\left[\\begin{matrix}0 & 1\\\\1 & 0\\end{matrix}\\right]\\right]$"
      ],
      "text/plain": [
       "⎡          ⎡0   1 ⎤        ⎤\n",
       "⎢          ⎢      ⎥        ⎥\n",
       "⎢⎡    √6⎤  ⎢0   0 ⎥        ⎥\n",
       "⎢⎢0   ──⎥  ⎢      ⎥        ⎥\n",
       "⎢⎢    3 ⎥  ⎢√2    ⎥  ⎡0  1⎤⎥\n",
       "⎢⎢      ⎥, ⎢──  0 ⎥, ⎢    ⎥⎥\n",
       "⎢⎢√3    ⎥  ⎢2     ⎥  ⎣1  0⎦⎥\n",
       "⎢⎢──  0 ⎥  ⎢      ⎥        ⎥\n",
       "⎢⎣3     ⎦  ⎢    √2⎥        ⎥\n",
       "⎢          ⎢0   ──⎥        ⎥\n",
       "⎣          ⎣    2 ⎦        ⎦"
      ]
     },
     "metadata": {},
     "output_type": "display_data"
    },
    {
     "data": {
      "text/latex": [
       "$\\displaystyle \\left[ \\left[\\begin{matrix}0 & \\frac{\\sqrt{3}}{2}\\\\\\frac{1}{2} & 0\\end{matrix}\\right], \\  \\left[\\begin{matrix}0 & 1\\\\0 & 0\\\\\\frac{\\sqrt{6}}{3} & 0\\\\0 & \\frac{\\sqrt{3}}{3}\\end{matrix}\\right], \\  \\left[\\begin{matrix}\\frac{\\sqrt{2}}{2} & 0\\\\0 & \\frac{\\sqrt{2}}{2}\\\\0 & 1\\\\0 & 0\\end{matrix}\\right], \\  \\left[\\begin{matrix}0 & 1\\\\1 & 0\\end{matrix}\\right]\\right]$"
      ],
      "text/plain": [
       "⎡           ⎡0   1 ⎤  ⎡√2    ⎤        ⎤\n",
       "⎢           ⎢      ⎥  ⎢──  0 ⎥        ⎥\n",
       "⎢           ⎢0   0 ⎥  ⎢2     ⎥        ⎥\n",
       "⎢⎡     √3⎤  ⎢      ⎥  ⎢      ⎥        ⎥\n",
       "⎢⎢ 0   ──⎥  ⎢√6    ⎥  ⎢    √2⎥  ⎡0  1⎤⎥\n",
       "⎢⎢     2 ⎥, ⎢──  0 ⎥, ⎢0   ──⎥, ⎢    ⎥⎥\n",
       "⎢⎢       ⎥  ⎢3     ⎥  ⎢    2 ⎥  ⎣1  0⎦⎥\n",
       "⎢⎣1/2  0 ⎦  ⎢      ⎥  ⎢      ⎥        ⎥\n",
       "⎢           ⎢    √3⎥  ⎢0   1 ⎥        ⎥\n",
       "⎢           ⎢0   ──⎥  ⎢      ⎥        ⎥\n",
       "⎣           ⎣    3 ⎦  ⎣0   0 ⎦        ⎦"
      ]
     },
     "metadata": {},
     "output_type": "display_data"
    },
    {
     "data": {
      "text/latex": [
       "$\\displaystyle \\left[ \\left[\\begin{matrix}0 & \\frac{2 \\sqrt{5}}{5}\\\\\\frac{\\sqrt{5}}{5} & 0\\end{matrix}\\right], \\  \\left[\\begin{matrix}0 & 1\\\\0 & 0\\\\\\frac{\\sqrt{3}}{2} & 0\\\\0 & \\frac{1}{2}\\end{matrix}\\right], \\  \\left[\\begin{matrix}\\frac{\\sqrt{6}}{3} & 0\\\\0 & \\frac{\\sqrt{3}}{3}\\\\0 & 1\\\\0 & 0\\end{matrix}\\right], \\  \\left[\\begin{matrix}\\frac{\\sqrt{2}}{2} & 0\\\\0 & \\frac{\\sqrt{2}}{2}\\\\0 & 1\\\\0 & 0\\end{matrix}\\right], \\  \\left[\\begin{matrix}0 & 1\\\\1 & 0\\end{matrix}\\right]\\right]$"
      ],
      "text/plain": [
       "⎡                       ⎡√6    ⎤  ⎡√2    ⎤        ⎤\n",
       "⎢            ⎡0    1 ⎤  ⎢──  0 ⎥  ⎢──  0 ⎥        ⎥\n",
       "⎢⎡    2⋅√5⎤  ⎢       ⎥  ⎢3     ⎥  ⎢2     ⎥        ⎥\n",
       "⎢⎢0   ────⎥  ⎢0    0 ⎥  ⎢      ⎥  ⎢      ⎥        ⎥\n",
       "⎢⎢     5  ⎥  ⎢       ⎥  ⎢    √3⎥  ⎢    √2⎥  ⎡0  1⎤⎥\n",
       "⎢⎢        ⎥, ⎢√3     ⎥, ⎢0   ──⎥, ⎢0   ──⎥, ⎢    ⎥⎥\n",
       "⎢⎢√5      ⎥  ⎢──   0 ⎥  ⎢    3 ⎥  ⎢    2 ⎥  ⎣1  0⎦⎥\n",
       "⎢⎢──   0  ⎥  ⎢2      ⎥  ⎢      ⎥  ⎢      ⎥        ⎥\n",
       "⎢⎣5       ⎦  ⎢       ⎥  ⎢0   1 ⎥  ⎢0   1 ⎥        ⎥\n",
       "⎢            ⎣0   1/2⎦  ⎢      ⎥  ⎢      ⎥        ⎥\n",
       "⎣                       ⎣0   0 ⎦  ⎣0   0 ⎦        ⎦"
      ]
     },
     "metadata": {},
     "output_type": "display_data"
    },
    {
     "data": {
      "text/latex": [
       "$\\displaystyle \\left[ \\left[\\begin{matrix}0 & \\frac{\\sqrt{30}}{6}\\\\\\frac{\\sqrt{6}}{6} & 0\\end{matrix}\\right], \\  \\left[\\begin{matrix}0 & 1\\\\0 & 0\\\\\\frac{2 \\sqrt{5}}{5} & 0\\\\0 & \\frac{\\sqrt{5}}{5}\\end{matrix}\\right], \\  \\left[\\begin{matrix}\\frac{\\sqrt{3}}{2} & 0\\\\0 & \\frac{1}{2}\\\\0 & 1\\\\0 & 0\\end{matrix}\\right], \\  \\left[\\begin{matrix}\\frac{\\sqrt{6}}{3} & 0\\\\0 & \\frac{\\sqrt{3}}{3}\\\\0 & 1\\\\0 & 0\\end{matrix}\\right], \\  \\left[\\begin{matrix}\\frac{\\sqrt{2}}{2} & 0\\\\0 & \\frac{\\sqrt{2}}{2}\\\\0 & 1\\\\0 & 0\\end{matrix}\\right], \\  \\left[\\begin{matrix}0 & 1\\\\1 & 0\\end{matrix}\\right]\\right]$"
      ],
      "text/plain": [
       "⎡           ⎡ 0    1 ⎤             ⎡√6    ⎤  ⎡√2    ⎤        ⎤\n",
       "⎢           ⎢        ⎥  ⎡√3     ⎤  ⎢──  0 ⎥  ⎢──  0 ⎥        ⎥\n",
       "⎢⎡    √30⎤  ⎢ 0    0 ⎥  ⎢──   0 ⎥  ⎢3     ⎥  ⎢2     ⎥        ⎥\n",
       "⎢⎢0   ───⎥  ⎢        ⎥  ⎢2      ⎥  ⎢      ⎥  ⎢      ⎥        ⎥\n",
       "⎢⎢     6 ⎥  ⎢2⋅√5    ⎥  ⎢       ⎥  ⎢    √3⎥  ⎢    √2⎥  ⎡0  1⎤⎥\n",
       "⎢⎢       ⎥, ⎢────  0 ⎥, ⎢0   1/2⎥, ⎢0   ──⎥, ⎢0   ──⎥, ⎢    ⎥⎥\n",
       "⎢⎢√6     ⎥  ⎢ 5      ⎥  ⎢       ⎥  ⎢    3 ⎥  ⎢    2 ⎥  ⎣1  0⎦⎥\n",
       "⎢⎢──   0 ⎥  ⎢        ⎥  ⎢0    1 ⎥  ⎢      ⎥  ⎢      ⎥        ⎥\n",
       "⎢⎣6      ⎦  ⎢      √5⎥  ⎢       ⎥  ⎢0   1 ⎥  ⎢0   1 ⎥        ⎥\n",
       "⎢           ⎢ 0    ──⎥  ⎣0    0 ⎦  ⎢      ⎥  ⎢      ⎥        ⎥\n",
       "⎣           ⎣      5 ⎦             ⎣0   0 ⎦  ⎣0   0 ⎦        ⎦"
      ]
     },
     "metadata": {},
     "output_type": "display_data"
    },
    {
     "data": {
      "text/latex": [
       "$\\displaystyle \\left[ \\left[\\begin{matrix}0 & \\frac{\\sqrt{42}}{7}\\\\\\frac{\\sqrt{7}}{7} & 0\\end{matrix}\\right], \\  \\left[\\begin{matrix}0 & 1\\\\0 & 0\\\\\\frac{\\sqrt{30}}{6} & 0\\\\0 & \\frac{\\sqrt{6}}{6}\\end{matrix}\\right], \\  \\left[\\begin{matrix}\\frac{2 \\sqrt{5}}{5} & 0\\\\0 & \\frac{\\sqrt{5}}{5}\\\\0 & 1\\\\0 & 0\\end{matrix}\\right], \\  \\left[\\begin{matrix}\\frac{\\sqrt{3}}{2} & 0\\\\0 & \\frac{1}{2}\\\\0 & 1\\\\0 & 0\\end{matrix}\\right], \\  \\left[\\begin{matrix}\\frac{\\sqrt{6}}{3} & 0\\\\0 & \\frac{\\sqrt{3}}{3}\\\\0 & 1\\\\0 & 0\\end{matrix}\\right], \\  \\left[\\begin{matrix}\\frac{\\sqrt{2}}{2} & 0\\\\0 & \\frac{\\sqrt{2}}{2}\\\\0 & 1\\\\0 & 0\\end{matrix}\\right], \\  \\left[\\begin{matrix}0 & 1\\\\1 & 0\\end{matrix}\\right]\\right]$"
      ],
      "text/plain": [
       "⎡           ⎡ 0   1 ⎤  ⎡2⋅√5    ⎤             ⎡√6    ⎤  ⎡√2    ⎤        ⎤\n",
       "⎢           ⎢       ⎥  ⎢────  0 ⎥  ⎡√3     ⎤  ⎢──  0 ⎥  ⎢──  0 ⎥        ⎥\n",
       "⎢⎡    √42⎤  ⎢ 0   0 ⎥  ⎢ 5      ⎥  ⎢──   0 ⎥  ⎢3     ⎥  ⎢2     ⎥        ⎥\n",
       "⎢⎢0   ───⎥  ⎢       ⎥  ⎢        ⎥  ⎢2      ⎥  ⎢      ⎥  ⎢      ⎥        ⎥\n",
       "⎢⎢     7 ⎥  ⎢√30    ⎥  ⎢      √5⎥  ⎢       ⎥  ⎢    √3⎥  ⎢    √2⎥  ⎡0  1⎤⎥\n",
       "⎢⎢       ⎥, ⎢───  0 ⎥, ⎢ 0    ──⎥, ⎢0   1/2⎥, ⎢0   ──⎥, ⎢0   ──⎥, ⎢    ⎥⎥\n",
       "⎢⎢√7     ⎥  ⎢ 6     ⎥  ⎢      5 ⎥  ⎢       ⎥  ⎢    3 ⎥  ⎢    2 ⎥  ⎣1  0⎦⎥\n",
       "⎢⎢──   0 ⎥  ⎢       ⎥  ⎢        ⎥  ⎢0    1 ⎥  ⎢      ⎥  ⎢      ⎥        ⎥\n",
       "⎢⎣7      ⎦  ⎢     √6⎥  ⎢ 0    1 ⎥  ⎢       ⎥  ⎢0   1 ⎥  ⎢0   1 ⎥        ⎥\n",
       "⎢           ⎢ 0   ──⎥  ⎢        ⎥  ⎣0    0 ⎦  ⎢      ⎥  ⎢      ⎥        ⎥\n",
       "⎣           ⎣     6 ⎦  ⎣ 0    0 ⎦             ⎣0   0 ⎦  ⎣0   0 ⎦        ⎦"
      ]
     },
     "metadata": {},
     "output_type": "display_data"
    },
    {
     "data": {
      "text/latex": [
       "$\\displaystyle \\left[ \\left[\\begin{matrix}0 & \\frac{\\sqrt{14}}{4}\\\\\\frac{\\sqrt{2}}{4} & 0\\end{matrix}\\right], \\  \\left[\\begin{matrix}0 & 1\\\\0 & 0\\\\\\frac{\\sqrt{42}}{7} & 0\\\\0 & \\frac{\\sqrt{7}}{7}\\end{matrix}\\right], \\  \\left[\\begin{matrix}\\frac{\\sqrt{30}}{6} & 0\\\\0 & \\frac{\\sqrt{6}}{6}\\\\0 & 1\\\\0 & 0\\end{matrix}\\right], \\  \\left[\\begin{matrix}\\frac{2 \\sqrt{5}}{5} & 0\\\\0 & \\frac{\\sqrt{5}}{5}\\\\0 & 1\\\\0 & 0\\end{matrix}\\right], \\  \\left[\\begin{matrix}\\frac{\\sqrt{3}}{2} & 0\\\\0 & \\frac{1}{2}\\\\0 & 1\\\\0 & 0\\end{matrix}\\right], \\  \\left[\\begin{matrix}\\frac{\\sqrt{6}}{3} & 0\\\\0 & \\frac{\\sqrt{3}}{3}\\\\0 & 1\\\\0 & 0\\end{matrix}\\right], \\  \\left[\\begin{matrix}\\frac{\\sqrt{2}}{2} & 0\\\\0 & \\frac{\\sqrt{2}}{2}\\\\0 & 1\\\\0 & 0\\end{matrix}\\right], \\  \\left[\\begin{matrix}0 & 1\\\\1 & 0\\end{matrix}\\right]\\right]$"
      ],
      "text/plain": [
       "⎡           ⎡ 0   1 ⎤  ⎡√30    ⎤  ⎡2⋅√5    ⎤             ⎡√6    ⎤  ⎡√2    ⎤    ↪\n",
       "⎢           ⎢       ⎥  ⎢───  0 ⎥  ⎢────  0 ⎥  ⎡√3     ⎤  ⎢──  0 ⎥  ⎢──  0 ⎥    ↪\n",
       "⎢⎡    √14⎤  ⎢ 0   0 ⎥  ⎢ 6     ⎥  ⎢ 5      ⎥  ⎢──   0 ⎥  ⎢3     ⎥  ⎢2     ⎥    ↪\n",
       "⎢⎢0   ───⎥  ⎢       ⎥  ⎢       ⎥  ⎢        ⎥  ⎢2      ⎥  ⎢      ⎥  ⎢      ⎥    ↪\n",
       "⎢⎢     4 ⎥  ⎢√42    ⎥  ⎢     √6⎥  ⎢      √5⎥  ⎢       ⎥  ⎢    √3⎥  ⎢    √2⎥  ⎡ ↪\n",
       "⎢⎢       ⎥, ⎢───  0 ⎥, ⎢ 0   ──⎥, ⎢ 0    ──⎥, ⎢0   1/2⎥, ⎢0   ──⎥, ⎢0   ──⎥, ⎢ ↪\n",
       "⎢⎢√2     ⎥  ⎢ 7     ⎥  ⎢     6 ⎥  ⎢      5 ⎥  ⎢       ⎥  ⎢    3 ⎥  ⎢    2 ⎥  ⎣ ↪\n",
       "⎢⎢──   0 ⎥  ⎢       ⎥  ⎢       ⎥  ⎢        ⎥  ⎢0    1 ⎥  ⎢      ⎥  ⎢      ⎥    ↪\n",
       "⎢⎣4      ⎦  ⎢     √7⎥  ⎢ 0   1 ⎥  ⎢ 0    1 ⎥  ⎢       ⎥  ⎢0   1 ⎥  ⎢0   1 ⎥    ↪\n",
       "⎢           ⎢ 0   ──⎥  ⎢       ⎥  ⎢        ⎥  ⎣0    0 ⎦  ⎢      ⎥  ⎢      ⎥    ↪\n",
       "⎣           ⎣     7 ⎦  ⎣ 0   0 ⎦  ⎣ 0    0 ⎦             ⎣0   0 ⎦  ⎣0   0 ⎦    ↪\n",
       "\n",
       "↪      ⎤\n",
       "↪      ⎥\n",
       "↪      ⎥\n",
       "↪      ⎥\n",
       "↪ 0  1⎤⎥\n",
       "↪     ⎥⎥\n",
       "↪ 1  0⎦⎥\n",
       "↪      ⎥\n",
       "↪      ⎥\n",
       "↪      ⎥\n",
       "↪      ⎦"
      ]
     },
     "metadata": {},
     "output_type": "display_data"
    },
    {
     "data": {
      "text/latex": [
       "$\\displaystyle \\left[ \\left[\\begin{matrix}0 & \\frac{2 \\sqrt{2}}{3}\\\\\\frac{1}{3} & 0\\end{matrix}\\right], \\  \\left[\\begin{matrix}0 & 1\\\\0 & 0\\\\\\frac{\\sqrt{14}}{4} & 0\\\\0 & \\frac{\\sqrt{2}}{4}\\end{matrix}\\right], \\  \\left[\\begin{matrix}\\frac{\\sqrt{42}}{7} & 0\\\\0 & \\frac{\\sqrt{7}}{7}\\\\0 & 1\\\\0 & 0\\end{matrix}\\right], \\  \\left[\\begin{matrix}\\frac{\\sqrt{30}}{6} & 0\\\\0 & \\frac{\\sqrt{6}}{6}\\\\0 & 1\\\\0 & 0\\end{matrix}\\right], \\  \\left[\\begin{matrix}\\frac{2 \\sqrt{5}}{5} & 0\\\\0 & \\frac{\\sqrt{5}}{5}\\\\0 & 1\\\\0 & 0\\end{matrix}\\right], \\  \\left[\\begin{matrix}\\frac{\\sqrt{3}}{2} & 0\\\\0 & \\frac{1}{2}\\\\0 & 1\\\\0 & 0\\end{matrix}\\right], \\  \\left[\\begin{matrix}\\frac{\\sqrt{6}}{3} & 0\\\\0 & \\frac{\\sqrt{3}}{3}\\\\0 & 1\\\\0 & 0\\end{matrix}\\right], \\  \\left[\\begin{matrix}\\frac{\\sqrt{2}}{2} & 0\\\\0 & \\frac{\\sqrt{2}}{2}\\\\0 & 1\\\\0 & 0\\end{matrix}\\right], \\  \\left[\\begin{matrix}0 & 1\\\\1 & 0\\end{matrix}\\right]\\right]$"
      ],
      "text/plain": [
       "⎡             ⎡ 0   1 ⎤  ⎡√42    ⎤  ⎡√30    ⎤  ⎡2⋅√5    ⎤             ⎡√6    ⎤ ↪\n",
       "⎢             ⎢       ⎥  ⎢───  0 ⎥  ⎢───  0 ⎥  ⎢────  0 ⎥  ⎡√3     ⎤  ⎢──  0 ⎥ ↪\n",
       "⎢             ⎢ 0   0 ⎥  ⎢ 7     ⎥  ⎢ 6     ⎥  ⎢ 5      ⎥  ⎢──   0 ⎥  ⎢3     ⎥ ↪\n",
       "⎢⎡     2⋅√2⎤  ⎢       ⎥  ⎢       ⎥  ⎢       ⎥  ⎢        ⎥  ⎢2      ⎥  ⎢      ⎥ ↪\n",
       "⎢⎢ 0   ────⎥  ⎢√14    ⎥  ⎢     √7⎥  ⎢     √6⎥  ⎢      √5⎥  ⎢       ⎥  ⎢    √3⎥ ↪\n",
       "⎢⎢      3  ⎥, ⎢───  0 ⎥, ⎢ 0   ──⎥, ⎢ 0   ──⎥, ⎢ 0    ──⎥, ⎢0   1/2⎥, ⎢0   ──⎥ ↪\n",
       "⎢⎢         ⎥  ⎢ 4     ⎥  ⎢     7 ⎥  ⎢     6 ⎥  ⎢      5 ⎥  ⎢       ⎥  ⎢    3 ⎥ ↪\n",
       "⎢⎣1/3   0  ⎦  ⎢       ⎥  ⎢       ⎥  ⎢       ⎥  ⎢        ⎥  ⎢0    1 ⎥  ⎢      ⎥ ↪\n",
       "⎢             ⎢     √2⎥  ⎢ 0   1 ⎥  ⎢ 0   1 ⎥  ⎢ 0    1 ⎥  ⎢       ⎥  ⎢0   1 ⎥ ↪\n",
       "⎢             ⎢ 0   ──⎥  ⎢       ⎥  ⎢       ⎥  ⎢        ⎥  ⎣0    0 ⎦  ⎢      ⎥ ↪\n",
       "⎣             ⎣     4 ⎦  ⎣ 0   0 ⎦  ⎣ 0   0 ⎦  ⎣ 0    0 ⎦             ⎣0   0 ⎦ ↪\n",
       "\n",
       "↪   ⎡√2    ⎤        ⎤\n",
       "↪   ⎢──  0 ⎥        ⎥\n",
       "↪   ⎢2     ⎥        ⎥\n",
       "↪   ⎢      ⎥        ⎥\n",
       "↪   ⎢    √2⎥  ⎡0  1⎤⎥\n",
       "↪ , ⎢0   ──⎥, ⎢    ⎥⎥\n",
       "↪   ⎢    2 ⎥  ⎣1  0⎦⎥\n",
       "↪   ⎢      ⎥        ⎥\n",
       "↪   ⎢0   1 ⎥        ⎥\n",
       "↪   ⎢      ⎥        ⎥\n",
       "↪   ⎣0   0 ⎦        ⎦"
      ]
     },
     "metadata": {},
     "output_type": "display_data"
    }
   ],
   "source": [
    "for n in range(1,10):\n",
    "    T,l = sym_construct(n)\n",
    "    Alist = sym_mps(T,n,l)\n",
    "    display(list(Alist))"
   ]
  }
 ],
 "metadata": {
  "kernelspec": {
   "display_name": ".venv",
   "language": "python",
   "name": "python3"
  },
  "language_info": {
   "codemirror_mode": {
    "name": "ipython",
    "version": 3
   },
   "file_extension": ".py",
   "mimetype": "text/x-python",
   "name": "python",
   "nbconvert_exporter": "python",
   "pygments_lexer": "ipython3",
   "version": "3.12.6"
  }
 },
 "nbformat": 4,
 "nbformat_minor": 5
}
